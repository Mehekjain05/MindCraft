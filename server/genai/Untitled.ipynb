{
 "cells": [
  {
   "cell_type": "code",
   "execution_count": 15,
   "id": "1e339483-38eb-4b2e-ac0c-45b5f6284e31",
   "metadata": {},
   "outputs": [],
   "source": [
    "import os\n",
    "import ast\n",
    "from dotenv import load_dotenv\n",
    "import openai\n",
    "from openai import OpenAI\n",
    "import time\n",
    "from tavily import TavilyClient\n",
    "\n",
    "load_dotenv()\n",
    "\n",
    "tavily_api_key = os.environ.get('MY_TAVILY_API_KEY')\n",
    "openai_api_key = os.environ.get('OPENAI_API_KEY1')"
   ]
  },
  {
   "cell_type": "code",
   "execution_count": 5,
   "id": "b9e81678-1b64-4633-8f6c-66f4e0956536",
   "metadata": {},
   "outputs": [],
   "source": [
    "tavily = TavilyClient(api_key=tavily_api_key)\n",
    "\n",
    "response = tavily.search(query=\"Retrieve 4-6 trending topics or fields of research in the domain of Generative AI. Make sure to give only the topic name and not the entire trends.\", search_depth=\"advanced\")"
   ]
  },
  {
   "cell_type": "code",
   "execution_count": 6,
   "id": "c3cad52b-acff-4f9d-8a11-80cd5afc7336",
   "metadata": {},
   "outputs": [
    {
     "name": "stdout",
     "output_type": "stream",
     "text": [
      "{'query': 'Retrieve 4-6 trending topics or fields of research in the domain of '\n",
      "          'Generative AI. Make sure to give only the topic name and not the '\n",
      "          'entire trends.',\n",
      " 'follow_up_questions': ['What are the latest advancements in Generative AI?',\n",
      "                         'How is Generative AI being applied in different '\n",
      "                         'industries?',\n",
      "                         'What are the challenges in implementing Generative '\n",
      "                         'AI?'],\n",
      " 'answer': None,\n",
      " 'images': None,\n",
      " 'results': [{'content': 'The 10 Biggest Generative AI Trends For 2024 '\n",
      "                         'Everyone Must Be Ready For Now  Generative AI was '\n",
      "                         'the explosive breakout tech trend of 2023, capturing '\n",
      "                         'the attention of not only techies and futurists  the '\n",
      "                         'direction I expect to see the development of new '\n",
      "                         'generative AI models heading in 2024.  More From '\n",
      "                         'Forbes The 10 Biggest Generative AI Trends For 2024 '\n",
      "                         'Everyone Must Be Ready For NowGenerative AI was the '\n",
      "                         'explosive breakout tech trend of 2023, capturing the '\n",
      "                         'attention of not only techies and futurists but '\n",
      "                         'mainstream audiences, too, with its ability to '\n",
      "                         'create seemingly...',\n",
      "              'url': 'https://www.forbes.com/sites/bernardmarr/2023/10/02/the-10-biggest-generative-ai-trends-for-2024-everyone-must-be-ready-for-now/',\n",
      "              'score': 0.89257,\n",
      "              'title': 'The 10 Biggest Generative AI Trends For 2024 Everyone '\n",
      "                       'Must Be ... - Forbes',\n",
      "              'raw_content': None},\n",
      "             {'content': 'Here are a few predictions of how generative AI will '\n",
      "                         'shape 2024.  2024 will be a year of focusing on just '\n",
      "                         'how generative AI will shape the larger enterprise '\n",
      "                         'IT ecosphere.  putilov_denis - stock.adobe.com Five '\n",
      "                         'generative AI trends to look for in 2024  One way '\n",
      "                         'generative AI will do this in 2024 is with \"shadow '\n",
      "                         'AI,\" Goetz said.Five generative AI trends to look '\n",
      "                         'for in 2024 The boom will persist as enterprises '\n",
      "                         'become acclimated to the technology. More '\n",
      "                         'enterprises will start using genAI systems and '\n",
      "                         'organizations will incorporate governance measures. '\n",
      "                         'By Esther Ajao, News Writer Published: 19 Dec 2023',\n",
      "              'url': 'https://www.techtarget.com/searchEnterpriseAI/feature/Five-generative-AI-trends-to-look-for-in-2024',\n",
      "              'score': 0.87714,\n",
      "              'title': 'Five generative AI trends to look for in 2024 | '\n",
      "                       'TechTarget',\n",
      "              'raw_content': None},\n",
      "             {'content': '2024 Trends: Generative AI is Not Here to Stay '\n",
      "                         '(Everywhere) October 11, 2023  Technology Research '\n",
      "                         'Generative AI has taken the world by storm, '\n",
      "                         'transforming how we create, consume, and '\n",
      "                         'interact...  AI & Analytics Research This post is '\n",
      "                         \"part of G2's 2024 technology trends series. Read \"\n",
      "                         'more about G2’s perspective on...  Where are these '\n",
      "                         'generative AI features, and where will they go?In '\n",
      "                         '2024, some software vendors will realize that the AI '\n",
      "                         \"they are incorporating into their solutions isn't \"\n",
      "                         'making a tremendous difference - and we will see the '\n",
      "                         'less-than-useful AI disappear and the helpful AI '\n",
      "                         'stay. AI has been in the news a lot recently. And at '\n",
      "                         'G2, we have seen that AI is infusing software across '\n",
      "                         'hundreds of categories ...',\n",
      "              'url': 'https://research.g2.com/insights/generative-ai-trends-2024',\n",
      "              'score': 0.87122,\n",
      "              'title': '2024 Trends: Generative AI is Not Here to Stay '\n",
      "                       '(Everywhere)',\n",
      "              'raw_content': None},\n",
      "             {'content': 'Generative AI and Sustainability.  Generative AI '\n",
      "                         '(GenAI) is rapidly evolving in a manner that offers '\n",
      "                         'opportunities to deliver value to clients.  '\n",
      "                         'Generative AI (GenAI) is rapidly evolving in a '\n",
      "                         'manner that offers opportunities to deliver value to '\n",
      "                         'clients.  Learn More: What Generative AI Means for '\n",
      "                         'Business Theme 4: AI-enabled applications3 things to '\n",
      "                         'tell your peers. 1. The trends and technologies '\n",
      "                         \"featured in Gartner's impact radar for generative AI \"\n",
      "                         'fall into four key themes, helping product leaders '\n",
      "                         'gain a competitive edge. 2. Use the impact radar to '\n",
      "                         'inform your strategy for developing GenAI-enabled '\n",
      "                         'products and services. 3.',\n",
      "              'url': 'https://www.gartner.com/en/articles/understand-and-exploit-gen-ai-with-gartner-s-new-impact-radar',\n",
      "              'score': 0.85916,\n",
      "              'title': 'Gartner Impact Radar for Generative AI 2024',\n",
      "              'raw_content': None},\n",
      "             {'content': 'when it comes to generative AI -- what can we '\n",
      "                         'realistically expect in 2024?  4. 2024 will be the '\n",
      "                         'year of responsible AI  putilov_denis - '\n",
      "                         'stock.adobe.com 6 generative AI predictions for '\n",
      "                         '2024  that are focused on responsibility and AI '\n",
      "                         \"ethics. In 2024, we'll start seeing a \"\n",
      "                         'standardization of responsible AIMy six generative '\n",
      "                         'AI predictions for 2024 center around practicality: '\n",
      "                         'continued adoption, multimodality, open source, '\n",
      "                         'responsible AI, regulation and organizational '\n",
      "                         \"exposure. In 2024, I'll be dedicating most of my \"\n",
      "                         'research to these topics.',\n",
      "              'url': 'https://www.techtarget.com/searchEnterpriseAI/opinion/6-generative-AI-predictions-for-2024',\n",
      "              'score': 0.85864,\n",
      "              'title': '6 generative AI predictions for 2024 | TechTarget',\n",
      "              'raw_content': None}],\n",
      " 'response_time': 3.9}\n"
     ]
    }
   ],
   "source": [
    "from pprint import pprint\n",
    "\n",
    "pprint(response, sort_dicts=False)"
   ]
  },
  {
   "cell_type": "code",
   "execution_count": 23,
   "id": "3ff55daf-e892-4063-a0d5-8e99506b8db0",
   "metadata": {},
   "outputs": [],
   "source": [
    "client = OpenAI(api_key= openai_api_key)\n",
    "completion = client.chat.completions.create(\n",
    "            model = 'gpt-3.5-turbo-1106',\n",
    "            messages = [\n",
    "                {'role':'user', 'content':\"Retrieve 4-6 trending topics or fields of research in the domain of Computer Vision. Make sure to give only the topic names with a short summary in valid json format where topic name is the key and summary of the topic is the value.\"},\n",
    "            ],\n",
    "            response_format = {'type':'json_object'},\n",
    "            seed = 42\n",
    ")"
   ]
  },
  {
   "cell_type": "code",
   "execution_count": 24,
   "id": "8d50dfeb-29ab-4e4a-b5b3-508f59f3951f",
   "metadata": {},
   "outputs": [
    {
     "name": "stdout",
     "output_type": "stream",
     "text": [
      "{'Deep Learning for Object Detection': 'Research focused on developing '\n",
      "                                       'advanced deep learning techniques for '\n",
      "                                       'accurate and efficient object '\n",
      "                                       'detection in images and videos.',\n",
      " 'Semantic Segmentation': 'Study of algorithms and methodologies for '\n",
      "                          'segmenting and classifying each pixel in an image '\n",
      "                          'based on its semantic meaning, such as identifying '\n",
      "                          'different objects and their boundaries.',\n",
      " '3D Reconstruction and Modeling': 'Investigation into techniques for '\n",
      "                                   'reconstructing and modeling '\n",
      "                                   'three-dimensional shapes and scenes from '\n",
      "                                   'two-dimensional images or video footage, '\n",
      "                                   'enabling applications in augmented '\n",
      "                                   'reality, virtual reality, and 3D printing.',\n",
      " 'Generative Adversarial Networks (GANs) for Image Generation': 'Exploration '\n",
      "                                                                'of GANs, a '\n",
      "                                                                'type of '\n",
      "                                                                'neural '\n",
      "                                                                'network '\n",
      "                                                                'architecture, '\n",
      "                                                                'for '\n",
      "                                                                'generating '\n",
      "                                                                'realistic and '\n",
      "                                                                'high-quality '\n",
      "                                                                'images by '\n",
      "                                                                'learning from '\n",
      "                                                                'large '\n",
      "                                                                'datasets of '\n",
      "                                                                'visual '\n",
      "                                                                'information '\n",
      "                                                                'and producing '\n",
      "                                                                'new content '\n",
      "                                                                'with various '\n",
      "                                                                'applications '\n",
      "                                                                'in digital '\n",
      "                                                                'media and '\n",
      "                                                                'creative '\n",
      "                                                                'industries.'}\n"
     ]
    }
   ],
   "source": [
    "output = ast.literal_eval(completion.choices[0].message.content)\n",
    "pprint(output, sort_dicts=False)"
   ]
  },
  {
   "cell_type": "code",
   "execution_count": 25,
   "id": "3c100c82-9283-4fc9-945f-6870c1240f24",
   "metadata": {},
   "outputs": [
    {
     "name": "stdout",
     "output_type": "stream",
     "text": [
      "Name: openai\n",
      "Version: 1.6.1\n",
      "Summary: The official Python library for the openai API\n",
      "Home-page: \n",
      "Author: \n",
      "Author-email: OpenAI <support@openai.com>\n",
      "License: \n",
      "Location: /home/rachit/.local/lib/python3.10/site-packages\n",
      "Requires: anyio, distro, httpx, pydantic, sniffio, tqdm, typing-extensions\n",
      "Required-by: pdfgpt\n"
     ]
    }
   ],
   "source": [
    "!pip show openai"
   ]
  },
  {
   "cell_type": "code",
   "execution_count": null,
   "id": "aa9944ee-4767-407b-8f43-47084e1637df",
   "metadata": {},
   "outputs": [],
   "source": []
  }
 ],
 "metadata": {
  "kernelspec": {
   "display_name": "Python 3 (ipykernel)",
   "language": "python",
   "name": "python3"
  },
  "language_info": {
   "codemirror_mode": {
    "name": "ipython",
    "version": 3
   },
   "file_extension": ".py",
   "mimetype": "text/x-python",
   "name": "python",
   "nbconvert_exporter": "python",
   "pygments_lexer": "ipython3",
   "version": "3.10.12"
  }
 },
 "nbformat": 4,
 "nbformat_minor": 5
}
