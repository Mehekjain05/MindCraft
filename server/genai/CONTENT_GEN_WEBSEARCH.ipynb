{
 "cells": [
  {
   "cell_type": "code",
   "execution_count": 9,
   "id": "c76941cd-4b33-4da0-adc6-a86c5e95b515",
   "metadata": {},
   "outputs": [],
   "source": [
    "import os\n",
    "import ast\n",
    "from dotenv import load_dotenv\n",
    "import openai\n",
    "from openai import OpenAI\n",
    "import time\n",
    "from tavily import TavilyClient\n",
    "\n",
    "load_dotenv()\n",
    "\n",
    "openai.api_key = os.environ.get('OPENAI_API_KEY')\n",
    "tavily_api_key = os.environ.get('TAVILY_API_KEY')"
   ]
  },
  {
   "cell_type": "code",
   "execution_count": 10,
   "id": "b06e553d-a091-4815-8051-f557e69fb127",
   "metadata": {},
   "outputs": [],
   "source": [
    "def trending_module_summary_from_web(domain):\n",
    "    query = 'Trending topics in ' + domain\n",
    "    tavily_client = TavilyClient(api_key=tavily_api_key)\n",
    "    start = time.time()\n",
    "    search_result = tavily_client.get_search_context(query, search_depth=\"advanced\", max_tokens=4000)\n",
    "    print(f\"Time required to search for trending topics: {time.time()-start}sec.\")\n",
    "    \n",
    "    module_generation_prompt = \"\"\"As an educational assistant, your goal is to craft 4-6 \\\n",
    "  educational module names and brief summaries based on the search results. \\\n",
    "  Ensure the module names are relevant and provide a concise summary for each. \\\n",
    "  Format the output in JSON, with each key representing a complete module name and its corresponding value being the brief summary.\n",
    "\n",
    "Search Results: {search_result}\n",
    "\n",
    "Follow the provided JSON format diligently, incorporating information from the search results into the summaries.\n",
    "\"\"\"\n",
    "    start = time.time()\n",
    "    client = OpenAI()\n",
    "    completion = client.chat.completions.create(\n",
    "            model = 'gpt-3.5-turbo-1106',\n",
    "            messages = [\n",
    "                {'role':'user', 'content': module_generation_prompt.format(search_result = search_result)},\n",
    "            ],\n",
    "            response_format = {'type':'json_object'},\n",
    "            seed = 42,\n",
    ")\n",
    "    print(f\"Time required to generate module for trending topics: {time.time()-start}sec.\")\n",
    "    output = ast.literal_eval(completion.choices[0].message.content)\n",
    "    \n",
    "    return output"
   ]
  },
  {
   "cell_type": "code",
   "execution_count": 12,
   "id": "dc6aedbe-1839-41f3-8ace-7bbda565a407",
   "metadata": {},
   "outputs": [
    {
     "name": "stdout",
     "output_type": "stream",
     "text": [
      "Time required to search for trending topics: 5.95522403717041sec.\n",
      "Time required to generate module for trending topics: 5.427016735076904sec.\n",
      "websearch response:\n",
      "{'Generative AI Trends for 2024': 'Explore the direction of new generative AI '\n",
      "                                  'models expected in 2024 based on the '\n",
      "                                  'explosive breakout trend of 2023, including '\n",
      "                                  'its potential impact on various industries '\n",
      "                                  'and its transformative capabilities.',\n",
      " 'State of AI in 2023 and the Future of Generative AI': 'Learn about the '\n",
      "                                                        'explosive growth and '\n",
      "                                                        'new capabilities of '\n",
      "                                                        'generative AI as '\n",
      "                                                        'confirmed by the '\n",
      "                                                        'latest McKinsey '\n",
      "                                                        'Global Survey, and '\n",
      "                                                        'gain insights into '\n",
      "                                                        'the future potential '\n",
      "                                                        'of generative AI in '\n",
      "                                                        'transforming '\n",
      "                                                        'industries.',\n",
      " 'Pushing the Frontiers of Generative AI': 'Discover the latest advancements '\n",
      "                                           'and innovations in generative AI, '\n",
      "                                           'as well as its potential to '\n",
      "                                           \"transform people's lives across \"\n",
      "                                           'society through interdisciplinary '\n",
      "                                           'research projects and '\n",
      "                                           'collaborative collisions among '\n",
      "                                           'attendees.',\n",
      " 'The Evolution of AI in 2023 and Beyond': 'Explore the four trends that '\n",
      "                                           'changed AI in 2023, including the '\n",
      "                                           'crucial role of generative AI in '\n",
      "                                           'determining its real value and the '\n",
      "                                           'endless product launches and '\n",
      "                                           'intense policy debates surrounding '\n",
      "                                           'it.',\n",
      " 'Generative AI: 2023 vs 2024': 'Reflect on the impact of generative AI in '\n",
      "                                '2023, its use in various industries and '\n",
      "                                'platforms, and the expectations and potential '\n",
      "                                'applications of generative AI in 2024.'}\n"
     ]
    }
   ],
   "source": [
    "from pprint import pprint\n",
    "\n",
    "domain = \"Generative AI\"\n",
    "\n",
    "websearch_response = trending_module_summary_from_web(domain)\n",
    "print(\"websearch response:\")\n",
    "pprint(websearch_response,sort_dicts=False)"
   ]
  },
  {
   "cell_type": "code",
   "execution_count": null,
   "id": "f023d510-dfc2-4262-a6ea-ac739b2747ba",
   "metadata": {},
   "outputs": [],
   "source": []
  },
  {
   "cell_type": "code",
   "execution_count": null,
   "id": "c878511a-0d75-48ca-a997-a13984d03c93",
   "metadata": {},
   "outputs": [],
   "source": []
  },
  {
   "cell_type": "code",
   "execution_count": null,
   "id": "bdd405a1-54dd-436b-a6bd-fa40ca9e5b4b",
   "metadata": {},
   "outputs": [],
   "source": []
  }
 ],
 "metadata": {
  "kernelspec": {
   "display_name": "Python 3 (ipykernel)",
   "language": "python",
   "name": "python3"
  },
  "language_info": {
   "codemirror_mode": {
    "name": "ipython",
    "version": 3
   },
   "file_extension": ".py",
   "mimetype": "text/x-python",
   "name": "python",
   "nbconvert_exporter": "python",
   "pygments_lexer": "ipython3",
   "version": "3.10.12"
  }
 },
 "nbformat": 4,
 "nbformat_minor": 5
}
